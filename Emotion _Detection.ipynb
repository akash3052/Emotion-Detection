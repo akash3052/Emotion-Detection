{
  "nbformat": 4,
  "nbformat_minor": 0,
  "metadata": {
    "colab": {
      "name": "tom_and_jerry_ver1.ipynb",
      "provenance": [],
      "collapsed_sections": []
    },
    "kernelspec": {
      "name": "python3",
      "display_name": "Python 3"
    },
    "accelerator": "GPU"
  },
  "cells": [
    {
      "cell_type": "code",
      "metadata": {
        "id": "jK31IPBI6lsA",
        "colab": {
          "base_uri": "https://localhost:8080/",
          "height": 72
        },
        "outputId": "126ae093-a229-460d-8d47-a80a80784a3a"
      },
      "source": [
        "import pandas as pd\n",
        "import numpy as np\n",
        "import matplotlib.pyplot as plt\n",
        "import matplotlib.image as mpimg\n",
        "import os\n",
        "import cv2\n",
        "from google.colab.patches import cv2_imshow\n",
        "import math\n",
        "import seaborn as sns\n",
        "from keras import optimizers, Sequential\n",
        "from keras.layers import Conv2D, MaxPooling2D, Dense, Flatten,Dropout,Activation\n",
        "from keras.utils import to_categorical\n",
        "from tqdm import tqdm\n",
        "from sklearn.model_selection import train_test_split\n",
        "%matplotlib inline"
      ],
      "execution_count": null,
      "outputs": [
        {
          "output_type": "stream",
          "text": [
            "/usr/local/lib/python3.6/dist-packages/statsmodels/tools/_testing.py:19: FutureWarning: pandas.util.testing is deprecated. Use the functions in the public API at pandas.testing instead.\n",
            "  import pandas.util.testing as tm\n"
          ],
          "name": "stderr"
        }
      ]
    },
    {
      "cell_type": "code",
      "metadata": {
        "id": "5hKaQj2l61e2",
        "colab": {
          "base_uri": "https://localhost:8080/",
          "height": 196
        },
        "outputId": "bc1585d4-593a-4401-a94f-98840149d235"
      },
      "source": [
        "#Dataset for train data\n",
        "# path=\"/content/drive/My Drive/TOM AND JERRY/train.csv\"\n",
        "path=\"/content/drive/My Drive/TOM_FINAL_TEST_DATA/train.csv\"\n",
        "df=pd.read_csv(path)\n",
        "df.head()"
      ],
      "execution_count": null,
      "outputs": [
        {
          "output_type": "execute_result",
          "data": {
            "text/html": [
              "<div>\n",
              "<style scoped>\n",
              "    .dataframe tbody tr th:only-of-type {\n",
              "        vertical-align: middle;\n",
              "    }\n",
              "\n",
              "    .dataframe tbody tr th {\n",
              "        vertical-align: top;\n",
              "    }\n",
              "\n",
              "    .dataframe thead th {\n",
              "        text-align: right;\n",
              "    }\n",
              "</style>\n",
              "<table border=\"1\" class=\"dataframe\">\n",
              "  <thead>\n",
              "    <tr style=\"text-align: right;\">\n",
              "      <th></th>\n",
              "      <th>image_file</th>\n",
              "      <th>emotion</th>\n",
              "    </tr>\n",
              "  </thead>\n",
              "  <tbody>\n",
              "    <tr>\n",
              "      <th>0</th>\n",
              "      <td>IMG_10000000fn</td>\n",
              "      <td>1</td>\n",
              "    </tr>\n",
              "    <tr>\n",
              "      <th>1</th>\n",
              "      <td>IMG_10000000n</td>\n",
              "      <td>1</td>\n",
              "    </tr>\n",
              "    <tr>\n",
              "      <th>2</th>\n",
              "      <td>IMG_10000004f</td>\n",
              "      <td>0</td>\n",
              "    </tr>\n",
              "    <tr>\n",
              "      <th>3</th>\n",
              "      <td>IMG_10000004fn</td>\n",
              "      <td>0</td>\n",
              "    </tr>\n",
              "    <tr>\n",
              "      <th>4</th>\n",
              "      <td>IMG_10000004n</td>\n",
              "      <td>0</td>\n",
              "    </tr>\n",
              "  </tbody>\n",
              "</table>\n",
              "</div>"
            ],
            "text/plain": [
              "       image_file  emotion\n",
              "0  IMG_10000000fn        1\n",
              "1   IMG_10000000n        1\n",
              "2   IMG_10000004f        0\n",
              "3  IMG_10000004fn        0\n",
              "4   IMG_10000004n        0"
            ]
          },
          "metadata": {
            "tags": []
          },
          "execution_count": 2
        }
      ]
    },
    {
      "cell_type": "code",
      "metadata": {
        "id": "f71GBmiw687V",
        "colab": {
          "base_uri": "https://localhost:8080/",
          "height": 52
        },
        "outputId": "e2df3d33-ca95-4aaa-b301-379a2f6d58fa"
      },
      "source": [
        "#Storing image path and labels for train data\n",
        "# dir_path=\"/content/drive/My Drive/TOM AND JERRY/train_data/ntrain/\"\n",
        "dir_path=\"/content/drive/My Drive/TOM_FINAL_TEST_DATA/train/ntrain/\"\n",
        "image_paths=[]\n",
        "labels=[]\n",
        "for i in range(df.shape[0]):\n",
        "    image_paths.append(dir_path+df.iloc[i][0]+\".jpg\")\n",
        "    labels.append(df.iloc[i][1])\n",
        "print(len(image_paths))\n",
        "print(len(labels))\n"
      ],
      "execution_count": null,
      "outputs": [
        {
          "output_type": "stream",
          "text": [
            "1941\n",
            "1941\n"
          ],
          "name": "stdout"
        }
      ]
    },
    {
      "cell_type": "code",
      "metadata": {
        "id": "EEf0kqJ57CD_"
      },
      "source": [
        "# #Storing matrix of each image after converting rgb image to gray and flattening FOR TRAIN DATA\n",
        "# x_data=[]\n",
        "# print(image_paths[0])\n",
        "# for path in image_paths:\n",
        "#     img = cv2.imread(path)\n",
        "#     # img=img/255\n",
        "#     # print(img)\n",
        "#     # img = cv2.resize(img, (0,0), fx=0.5, fy=0.5)\n",
        "#     img = cv2.resize(img, (180,320))\n",
        "#     gray_image= cv2.cvtColor(img, cv2.COLOR_BGR2GRAY)\n",
        "#     gray_image=gray_image.flatten()\n",
        "#     # x_data.append(img)\n",
        "#     gray_image = gray_image.astype('float32')\n",
        "#     gray_image=gray_image/255\n",
        "#     x_data.append(gray_image)\n",
        "# print(len(x_data))\n",
        "# x_data=np.array(x_data)\n",
        "# y_data=np.array(labels)\n",
        "# print(x_data.shape)\n",
        "# print(y_data.shape)\n"
      ],
      "execution_count": null,
      "outputs": []
    },
    {
      "cell_type": "code",
      "metadata": {
        "id": "YkmawAFaw7mp",
        "colab": {
          "base_uri": "https://localhost:8080/",
          "height": 69
        },
        "outputId": "e36befe6-d555-407f-d709-fa294d5c5939"
      },
      "source": [
        "print(image_paths[0])\n",
        "img = cv2.imread(image_paths[0])\n",
        "# print(img)\n",
        "print(type(img))\n",
        "print(img.shape)"
      ],
      "execution_count": null,
      "outputs": [
        {
          "output_type": "stream",
          "text": [
            "/content/drive/My Drive/TOM_FINAL_TEST_DATA/train/ntrain/IMG_10000000fn.jpg\n",
            "<class 'numpy.ndarray'>\n",
            "(360, 640, 3)\n"
          ],
          "name": "stdout"
        }
      ]
    },
    {
      "cell_type": "code",
      "metadata": {
        "id": "uSEItzNPlIug",
        "colab": {
          "base_uri": "https://localhost:8080/",
          "height": 86
        },
        "outputId": "1447676b-9f44-4d09-9ad1-b7b5b48c95ae"
      },
      "source": [
        "#Storing matrix of each image after converting rgb image to gray and flattening FOR TRAIN DATA\n",
        "x_data=[]\n",
        "print(image_paths[0])\n",
        "for path in image_paths:\n",
        "    img = cv2.imread(path)\n",
        "    # img=img/255\n",
        "    # print(img)\n",
        "    # img = cv2.resize(img, (0,0), fx=0.5, fy=0.5)\n",
        "    \n",
        "    gray_image= cv2.cvtColor(img, cv2.COLOR_BGR2GRAY)\n",
        "    gray_image = cv2.resize(gray_image, (180,320))\n",
        "    # gray_image=gray_image.flatten()\n",
        "    # img = img.astype('float32')\n",
        "    # img=img/255\n",
        "    # x_data.append(img)\n",
        "    gray_image = gray_image.astype('float32')\n",
        "    gray_image=gray_image/255\n",
        "    x_data.append(gray_image)\n",
        "print(len(x_data))\n",
        "x_data=np.array(x_data)\n",
        "y_data=np.array(labels)\n",
        "print(x_data.shape)\n",
        "print(y_data.shape)\n"
      ],
      "execution_count": null,
      "outputs": [
        {
          "output_type": "stream",
          "text": [
            "/content/drive/My Drive/TOM_FINAL_TEST_DATA/train/ntrain/IMG_10000000fn.jpg\n",
            "1941\n",
            "(1941, 320, 180)\n",
            "(1941,)\n"
          ],
          "name": "stdout"
        }
      ]
    },
    {
      "cell_type": "code",
      "metadata": {
        "id": "ZMHi7Q8n7FzN"
      },
      "source": [
        "# from sklearn.preprocessing import StandardScaler\n",
        "# from scipy.linalg import eigh\n",
        "# scalar= StandardScaler().fit(x_data)\n",
        "# standardized_data=scalar.transform(x_data)\n",
        "# x_data=standardized_data\n",
        "# print(x_data.shape)\n",
        "# print(x_data)"
      ],
      "execution_count": null,
      "outputs": []
    },
    {
      "cell_type": "code",
      "metadata": {
        "id": "s6JrBXgd7UR1",
        "colab": {
          "base_uri": "https://localhost:8080/",
          "height": 34
        },
        "outputId": "610edbe8-af8a-4e14-e0b2-91b081a0dfe7"
      },
      "source": [
        "x_data=x_data.reshape(len(x_data),180,320,1)\n",
        "print(x_data.shape)"
      ],
      "execution_count": null,
      "outputs": [
        {
          "output_type": "stream",
          "text": [
            "(1941, 180, 320, 1)\n"
          ],
          "name": "stdout"
        }
      ]
    },
    {
      "cell_type": "code",
      "metadata": {
        "id": "VlKqtuie7X6F",
        "colab": {
          "base_uri": "https://localhost:8080/",
          "height": 51
        },
        "outputId": "b74f8fff-8587-4f68-af56-92d1038b0569"
      },
      "source": [
        "y_data=y_data.reshape(-1,1)\n",
        "print(y_data.shape)\n",
        "y_data= to_categorical(y_data)\n",
        "y_data.shape"
      ],
      "execution_count": null,
      "outputs": [
        {
          "output_type": "stream",
          "text": [
            "(1941, 1)\n"
          ],
          "name": "stdout"
        },
        {
          "output_type": "execute_result",
          "data": {
            "text/plain": [
              "(1941, 5)"
            ]
          },
          "metadata": {
            "tags": []
          },
          "execution_count": 7
        }
      ]
    },
    {
      "cell_type": "code",
      "metadata": {
        "id": "PY_QTd2k7bIT"
      },
      "source": [
        "#Applying CNN\n",
        "# model = Sequential()\n",
        "# model.add(Conv2D(32, (3, 3), input_shape=(x_data.shape[1],x_data.shape[2],x_data.shape[3])))\n",
        "# model.add(Activation('relu'))\n",
        "# model.add(MaxPooling2D(pool_size=(2, 2)))\n",
        "\n",
        "# model.add(Conv2D(32, (3, 3)))\n",
        "# model.add(Activation('relu'))\n",
        "# model.add(MaxPooling2D(pool_size=(2, 2)))\n",
        "\n",
        "# model.add(Conv2D(64, (3, 3)))\n",
        "# model.add(Activation('relu'))\n",
        "# model.add(MaxPooling2D(pool_size=(2, 2)))\n",
        "\n",
        "# model.add(Flatten())  # this converts our 3D feature maps to 1D feature vectors\n",
        "# model.add(Dense(64,activation='relu'))\n",
        "# # model.add(Activation('relu'))\n",
        "# model.add(Dropout(0.5))\n",
        "# # model.add(Dense(5, activation='softmax'))\n",
        "# model.add(Dense(5, activation='sigmoid'))\n",
        "# # model.add(Activation('sigmoid'))\n"
      ],
      "execution_count": null,
      "outputs": []
    },
    {
      "cell_type": "code",
      "metadata": {
        "id": "RneX-plzhcxB"
      },
      "source": [
        "model = Sequential()\n",
        "model.add(Conv2D(32, kernel_size=(3,3), activation='relu',input_shape=(x_data.shape[1], x_data.shape[2], x_data.shape[3])))\n",
        "model.add(Conv2D(64, (3, 3), activation='relu'))\n",
        "model.add(MaxPooling2D(pool_size=(2, 2)))\n",
        "model.add(Dropout(0.25))\n",
        "model.add(Flatten())\n",
        "model.add(Dense(128, activation='relu'))\n",
        "model.add(Dropout(0.5))\n",
        "model.add(Dense(5, activation='softmax'))"
      ],
      "execution_count": null,
      "outputs": []
    },
    {
      "cell_type": "code",
      "metadata": {
        "id": "I3_MNbA2AWH1"
      },
      "source": [
        "model.compile(optimizer='adam', loss='categorical_crossentropy', metrics=['accuracy'])\n",
        "# model.compile(optimizer='adam', loss='categorical_crossentropy', metrics=['accuracy'])"
      ],
      "execution_count": null,
      "outputs": []
    },
    {
      "cell_type": "code",
      "metadata": {
        "id": "HP2LDxp8AgqE",
        "colab": {
          "base_uri": "https://localhost:8080/",
          "height": 1000
        },
        "outputId": "8d4fdd72-3f63-4546-b3e7-146d79b5acec"
      },
      "source": [
        "history=model.fit(x_data, y_data,epochs=100,verbose=1)"
      ],
      "execution_count": null,
      "outputs": [
        {
          "output_type": "stream",
          "text": [
            "Epoch 1/100\n",
            "1941/1941 [==============================] - 19s 10ms/step - loss: 4.3575 - accuracy: 0.3241\n",
            "Epoch 2/100\n",
            "1941/1941 [==============================] - 11s 6ms/step - loss: 1.3314 - accuracy: 0.4796\n",
            "Epoch 3/100\n",
            "1941/1941 [==============================] - 11s 6ms/step - loss: 1.1166 - accuracy: 0.5997\n",
            "Epoch 4/100\n",
            "1941/1941 [==============================] - 11s 6ms/step - loss: 0.9076 - accuracy: 0.7099\n",
            "Epoch 5/100\n",
            "1941/1941 [==============================] - 11s 6ms/step - loss: 0.6883 - accuracy: 0.7991\n",
            "Epoch 6/100\n",
            "1941/1941 [==============================] - 11s 6ms/step - loss: 0.5044 - accuracy: 0.8686\n",
            "Epoch 7/100\n",
            "1941/1941 [==============================] - 11s 6ms/step - loss: 0.3841 - accuracy: 0.9042\n",
            "Epoch 8/100\n",
            "1941/1941 [==============================] - 11s 6ms/step - loss: 0.3092 - accuracy: 0.9304\n",
            "Epoch 9/100\n",
            "1941/1941 [==============================] - 11s 6ms/step - loss: 0.2310 - accuracy: 0.9459\n",
            "Epoch 10/100\n",
            "1941/1941 [==============================] - 11s 6ms/step - loss: 0.1970 - accuracy: 0.9572\n",
            "Epoch 11/100\n",
            "1941/1941 [==============================] - 11s 6ms/step - loss: 0.1655 - accuracy: 0.9629\n",
            "Epoch 12/100\n",
            "1941/1941 [==============================] - 11s 6ms/step - loss: 0.1534 - accuracy: 0.9675\n",
            "Epoch 13/100\n",
            "1941/1941 [==============================] - 11s 6ms/step - loss: 0.1351 - accuracy: 0.9665\n",
            "Epoch 14/100\n",
            "1941/1941 [==============================] - 11s 6ms/step - loss: 0.1074 - accuracy: 0.9748\n",
            "Epoch 15/100\n",
            "1941/1941 [==============================] - 11s 6ms/step - loss: 0.1189 - accuracy: 0.9737\n",
            "Epoch 16/100\n",
            "1941/1941 [==============================] - 11s 6ms/step - loss: 0.0849 - accuracy: 0.9815\n",
            "Epoch 17/100\n",
            "1941/1941 [==============================] - 11s 6ms/step - loss: 0.0868 - accuracy: 0.9794\n",
            "Epoch 18/100\n",
            "1941/1941 [==============================] - 11s 6ms/step - loss: 0.0825 - accuracy: 0.9825\n",
            "Epoch 19/100\n",
            "1941/1941 [==============================] - 11s 6ms/step - loss: 0.0728 - accuracy: 0.9830\n",
            "Epoch 20/100\n",
            "1941/1941 [==============================] - 11s 6ms/step - loss: 0.0580 - accuracy: 0.9861\n",
            "Epoch 21/100\n",
            "1941/1941 [==============================] - 11s 6ms/step - loss: 0.0583 - accuracy: 0.9861\n",
            "Epoch 22/100\n",
            "1941/1941 [==============================] - 11s 6ms/step - loss: 0.0515 - accuracy: 0.9882\n",
            "Epoch 23/100\n",
            "1941/1941 [==============================] - 11s 6ms/step - loss: 0.0751 - accuracy: 0.9830\n",
            "Epoch 24/100\n",
            "1941/1941 [==============================] - 11s 6ms/step - loss: 0.0575 - accuracy: 0.9866\n",
            "Epoch 25/100\n",
            "1941/1941 [==============================] - 11s 6ms/step - loss: 0.0660 - accuracy: 0.9835\n",
            "Epoch 26/100\n",
            "1941/1941 [==============================] - 11s 6ms/step - loss: 0.0711 - accuracy: 0.9809\n",
            "Epoch 27/100\n",
            "1941/1941 [==============================] - 11s 6ms/step - loss: 0.0490 - accuracy: 0.9866\n",
            "Epoch 28/100\n",
            "1941/1941 [==============================] - 11s 6ms/step - loss: 0.0509 - accuracy: 0.9856\n",
            "Epoch 29/100\n",
            "1941/1941 [==============================] - 11s 6ms/step - loss: 0.0437 - accuracy: 0.9882\n",
            "Epoch 30/100\n",
            "1941/1941 [==============================] - 11s 6ms/step - loss: 0.0487 - accuracy: 0.9897\n",
            "Epoch 31/100\n",
            "1941/1941 [==============================] - 11s 6ms/step - loss: 0.0392 - accuracy: 0.9902\n",
            "Epoch 32/100\n",
            "1941/1941 [==============================] - 11s 6ms/step - loss: 0.0387 - accuracy: 0.9892\n",
            "Epoch 33/100\n",
            "1941/1941 [==============================] - 11s 6ms/step - loss: 0.0439 - accuracy: 0.9866\n",
            "Epoch 34/100\n",
            "1941/1941 [==============================] - 11s 6ms/step - loss: 0.0418 - accuracy: 0.9912\n",
            "Epoch 35/100\n",
            "1941/1941 [==============================] - 11s 6ms/step - loss: 0.0460 - accuracy: 0.9882\n",
            "Epoch 36/100\n",
            "1941/1941 [==============================] - 11s 6ms/step - loss: 0.0329 - accuracy: 0.9923\n",
            "Epoch 37/100\n",
            "1941/1941 [==============================] - 11s 6ms/step - loss: 0.0452 - accuracy: 0.9902\n",
            "Epoch 38/100\n",
            "1941/1941 [==============================] - 11s 6ms/step - loss: 0.0382 - accuracy: 0.9887\n",
            "Epoch 39/100\n",
            "1941/1941 [==============================] - 11s 6ms/step - loss: 0.0335 - accuracy: 0.9897\n",
            "Epoch 40/100\n",
            "1941/1941 [==============================] - 11s 6ms/step - loss: 0.0413 - accuracy: 0.9892\n",
            "Epoch 41/100\n",
            "1941/1941 [==============================] - 11s 6ms/step - loss: 0.0268 - accuracy: 0.9918\n",
            "Epoch 42/100\n",
            "1941/1941 [==============================] - 11s 6ms/step - loss: 0.0343 - accuracy: 0.9912\n",
            "Epoch 43/100\n",
            "1941/1941 [==============================] - 11s 6ms/step - loss: 0.0192 - accuracy: 0.9954\n",
            "Epoch 44/100\n",
            "1941/1941 [==============================] - 11s 6ms/step - loss: 0.0242 - accuracy: 0.9912\n",
            "Epoch 45/100\n",
            "1941/1941 [==============================] - 11s 6ms/step - loss: 0.0328 - accuracy: 0.9918\n",
            "Epoch 46/100\n",
            "1941/1941 [==============================] - 11s 6ms/step - loss: 0.0188 - accuracy: 0.9954\n",
            "Epoch 47/100\n",
            "1941/1941 [==============================] - 11s 6ms/step - loss: 0.0253 - accuracy: 0.9923\n",
            "Epoch 48/100\n",
            "1941/1941 [==============================] - 11s 6ms/step - loss: 0.0229 - accuracy: 0.9918\n",
            "Epoch 49/100\n",
            "1941/1941 [==============================] - 11s 6ms/step - loss: 0.0279 - accuracy: 0.9923\n",
            "Epoch 50/100\n",
            "1941/1941 [==============================] - 11s 6ms/step - loss: 0.0200 - accuracy: 0.9959\n",
            "Epoch 51/100\n",
            "1941/1941 [==============================] - 11s 6ms/step - loss: 0.0166 - accuracy: 0.9969\n",
            "Epoch 52/100\n",
            "1941/1941 [==============================] - 11s 6ms/step - loss: 0.0114 - accuracy: 0.9974\n",
            "Epoch 53/100\n",
            "1941/1941 [==============================] - 11s 6ms/step - loss: 0.0218 - accuracy: 0.9954\n",
            "Epoch 54/100\n",
            "1941/1941 [==============================] - 11s 6ms/step - loss: 0.0076 - accuracy: 0.9985\n",
            "Epoch 55/100\n",
            "1941/1941 [==============================] - 11s 6ms/step - loss: 0.0215 - accuracy: 0.9923\n",
            "Epoch 56/100\n",
            "1941/1941 [==============================] - 11s 6ms/step - loss: 0.0210 - accuracy: 0.9933\n",
            "Epoch 57/100\n",
            "1941/1941 [==============================] - 11s 6ms/step - loss: 0.0159 - accuracy: 0.9954\n",
            "Epoch 58/100\n",
            "1941/1941 [==============================] - 11s 6ms/step - loss: 0.0276 - accuracy: 0.9933\n",
            "Epoch 59/100\n",
            "1941/1941 [==============================] - 11s 6ms/step - loss: 0.0219 - accuracy: 0.9948\n",
            "Epoch 60/100\n",
            "1941/1941 [==============================] - 11s 6ms/step - loss: 0.0244 - accuracy: 0.9943\n",
            "Epoch 61/100\n",
            "1941/1941 [==============================] - 11s 6ms/step - loss: 0.0149 - accuracy: 0.9959\n",
            "Epoch 62/100\n",
            "1941/1941 [==============================] - 11s 6ms/step - loss: 0.0234 - accuracy: 0.9948\n",
            "Epoch 63/100\n",
            "1941/1941 [==============================] - 11s 6ms/step - loss: 0.0200 - accuracy: 0.9943\n",
            "Epoch 64/100\n",
            "1941/1941 [==============================] - 11s 6ms/step - loss: 0.0196 - accuracy: 0.9964\n",
            "Epoch 65/100\n",
            "1941/1941 [==============================] - 11s 6ms/step - loss: 0.0130 - accuracy: 0.9964\n",
            "Epoch 66/100\n",
            "1941/1941 [==============================] - 11s 6ms/step - loss: 0.0200 - accuracy: 0.9923\n",
            "Epoch 67/100\n",
            "1941/1941 [==============================] - 11s 6ms/step - loss: 0.0120 - accuracy: 0.9954\n",
            "Epoch 68/100\n",
            "1941/1941 [==============================] - 11s 6ms/step - loss: 0.0091 - accuracy: 0.9979\n",
            "Epoch 69/100\n",
            "1941/1941 [==============================] - 11s 6ms/step - loss: 0.0142 - accuracy: 0.9943\n",
            "Epoch 70/100\n",
            "1941/1941 [==============================] - 11s 6ms/step - loss: 0.0221 - accuracy: 0.9928\n",
            "Epoch 71/100\n",
            "1941/1941 [==============================] - 11s 6ms/step - loss: 0.0283 - accuracy: 0.9954\n",
            "Epoch 72/100\n",
            "1941/1941 [==============================] - 11s 6ms/step - loss: 0.0196 - accuracy: 0.9928\n",
            "Epoch 73/100\n",
            "1941/1941 [==============================] - 11s 6ms/step - loss: 0.0162 - accuracy: 0.9959\n",
            "Epoch 74/100\n",
            "1941/1941 [==============================] - 11s 6ms/step - loss: 0.0133 - accuracy: 0.9948\n",
            "Epoch 75/100\n",
            "1941/1941 [==============================] - 11s 6ms/step - loss: 0.0209 - accuracy: 0.9943\n",
            "Epoch 76/100\n",
            "1941/1941 [==============================] - 11s 6ms/step - loss: 0.0067 - accuracy: 0.9990\n",
            "Epoch 77/100\n",
            "1941/1941 [==============================] - 11s 6ms/step - loss: 0.0095 - accuracy: 0.9969\n",
            "Epoch 78/100\n",
            "1941/1941 [==============================] - 11s 6ms/step - loss: 0.0158 - accuracy: 0.9954\n",
            "Epoch 79/100\n",
            "1941/1941 [==============================] - 11s 6ms/step - loss: 0.0125 - accuracy: 0.9979\n",
            "Epoch 80/100\n",
            "1941/1941 [==============================] - 11s 6ms/step - loss: 0.0154 - accuracy: 0.9959\n",
            "Epoch 81/100\n",
            "1941/1941 [==============================] - 11s 6ms/step - loss: 0.0167 - accuracy: 0.9959\n",
            "Epoch 82/100\n",
            "1941/1941 [==============================] - 11s 6ms/step - loss: 0.0115 - accuracy: 0.9974\n",
            "Epoch 83/100\n",
            "1941/1941 [==============================] - 11s 6ms/step - loss: 0.0112 - accuracy: 0.9969\n",
            "Epoch 84/100\n",
            "1941/1941 [==============================] - 11s 6ms/step - loss: 0.0118 - accuracy: 0.9964\n",
            "Epoch 85/100\n",
            "1941/1941 [==============================] - 11s 6ms/step - loss: 0.0074 - accuracy: 0.9979\n",
            "Epoch 86/100\n",
            "1941/1941 [==============================] - 11s 6ms/step - loss: 0.0059 - accuracy: 0.9979\n",
            "Epoch 87/100\n",
            "1941/1941 [==============================] - 11s 6ms/step - loss: 0.0092 - accuracy: 0.9979\n",
            "Epoch 88/100\n",
            "1941/1941 [==============================] - 11s 6ms/step - loss: 0.0212 - accuracy: 0.9938\n",
            "Epoch 89/100\n",
            "1941/1941 [==============================] - 11s 6ms/step - loss: 0.0176 - accuracy: 0.9943\n",
            "Epoch 90/100\n",
            "1941/1941 [==============================] - 11s 6ms/step - loss: 0.0205 - accuracy: 0.9948\n",
            "Epoch 91/100\n",
            "1941/1941 [==============================] - 11s 6ms/step - loss: 0.0164 - accuracy: 0.9979\n",
            "Epoch 92/100\n",
            "1941/1941 [==============================] - 11s 6ms/step - loss: 0.0174 - accuracy: 0.9959\n",
            "Epoch 93/100\n",
            "1941/1941 [==============================] - 11s 6ms/step - loss: 0.0105 - accuracy: 0.9974\n",
            "Epoch 94/100\n",
            "1941/1941 [==============================] - 11s 6ms/step - loss: 0.0085 - accuracy: 0.9964\n",
            "Epoch 95/100\n",
            "1941/1941 [==============================] - 11s 6ms/step - loss: 0.0058 - accuracy: 0.9974\n",
            "Epoch 96/100\n",
            "1941/1941 [==============================] - 11s 6ms/step - loss: 0.0132 - accuracy: 0.9954\n",
            "Epoch 97/100\n",
            "1941/1941 [==============================] - 11s 6ms/step - loss: 0.0084 - accuracy: 0.9985\n",
            "Epoch 98/100\n",
            "1941/1941 [==============================] - 11s 6ms/step - loss: 0.0073 - accuracy: 0.9974\n",
            "Epoch 99/100\n",
            "1941/1941 [==============================] - 11s 6ms/step - loss: 0.0110 - accuracy: 0.9969\n",
            "Epoch 100/100\n",
            "1941/1941 [==============================] - 11s 6ms/step - loss: 0.0124 - accuracy: 0.9959\n"
          ],
          "name": "stdout"
        }
      ]
    },
    {
      "cell_type": "code",
      "metadata": {
        "id": "0FkwLJDlAmvn",
        "colab": {
          "base_uri": "https://localhost:8080/",
          "height": 204
        },
        "outputId": "d96eddf1-4d8f-4d78-e244-3c3aa474b0e1"
      },
      "source": [
        "    #DataFrame for test data\n",
        "# test_path=\"/content/drive/My Drive/TOM AND JERRY/test.csv\"\n",
        "test_path=\"/content/drive/My Drive/TOM_FINAL_TEST_DATA/test.csv\"\n",
        "test_df=pd.read_csv(test_path)\n",
        "test_df.head()"
      ],
      "execution_count": null,
      "outputs": [
        {
          "output_type": "execute_result",
          "data": {
            "text/html": [
              "<div>\n",
              "<style scoped>\n",
              "    .dataframe tbody tr th:only-of-type {\n",
              "        vertical-align: middle;\n",
              "    }\n",
              "\n",
              "    .dataframe tbody tr th {\n",
              "        vertical-align: top;\n",
              "    }\n",
              "\n",
              "    .dataframe thead th {\n",
              "        text-align: right;\n",
              "    }\n",
              "</style>\n",
              "<table border=\"1\" class=\"dataframe\">\n",
              "  <thead>\n",
              "    <tr style=\"text-align: right;\">\n",
              "      <th></th>\n",
              "      <th>image_file</th>\n",
              "    </tr>\n",
              "  </thead>\n",
              "  <tbody>\n",
              "    <tr>\n",
              "      <th>0</th>\n",
              "      <td>IMG_10000000</td>\n",
              "    </tr>\n",
              "    <tr>\n",
              "      <th>1</th>\n",
              "      <td>IMG_10000004</td>\n",
              "    </tr>\n",
              "    <tr>\n",
              "      <th>2</th>\n",
              "      <td>IMG_10000010</td>\n",
              "    </tr>\n",
              "    <tr>\n",
              "      <th>3</th>\n",
              "      <td>IMG_10000013</td>\n",
              "    </tr>\n",
              "    <tr>\n",
              "      <th>4</th>\n",
              "      <td>IMG_10000016</td>\n",
              "    </tr>\n",
              "  </tbody>\n",
              "</table>\n",
              "</div>"
            ],
            "text/plain": [
              "     image_file\n",
              "0  IMG_10000000\n",
              "1  IMG_10000004\n",
              "2  IMG_10000010\n",
              "3  IMG_10000013\n",
              "4  IMG_10000016"
            ]
          },
          "metadata": {
            "tags": []
          },
          "execution_count": 11
        }
      ]
    },
    {
      "cell_type": "code",
      "metadata": {
        "id": "1sN_s-fyCPMc",
        "colab": {
          "base_uri": "https://localhost:8080/",
          "height": 34
        },
        "outputId": "61aba3f4-6537-4e23-bba5-9c2b800150b5"
      },
      "source": [
        "#Storing image path for test data\n",
        "# test_dir_path=\"/content/drive/My Drive/TOM AND JERRY/test_data/ntest/\"\n",
        "test_dir_path=\"/content/drive/My Drive/TOM_FINAL_TEST_DATA/test/ntest/\"\n",
        "test_image_paths=[]\n",
        "for i in range(test_df.shape[0]):\n",
        "    test_image_paths.append(test_dir_path+test_df.iloc[i][0]+\".jpg\")\n",
        "print(len(test_image_paths))"
      ],
      "execution_count": null,
      "outputs": [
        {
          "output_type": "stream",
          "text": [
            "552\n"
          ],
          "name": "stdout"
        }
      ]
    },
    {
      "cell_type": "code",
      "metadata": {
        "id": "pODWR1HkCUl3",
        "colab": {
          "base_uri": "https://localhost:8080/",
          "height": 68
        },
        "outputId": "3346d7eb-8d01-4248-e274-024c817770d6"
      },
      "source": [
        "#Storing matrix of each image after converting rgb image to gray for TEST DATA\n",
        "x_test=[]\n",
        "print(test_image_paths[0])\n",
        "# a=np.array(test_image_paths[0])\n",
        "# print(a.shape)\n",
        "for path in test_image_paths:\n",
        "    img = cv2.imread(path)\n",
        "    # img=img/255\n",
        "    # cv2_imshow(img)\n",
        "    # print(img.shape)\n",
        "    # img = cv2.resize(img, (0,0), fx=0.5, fy=0.5)\n",
        "    \n",
        "    gray_image= cv2.cvtColor(img, cv2.COLOR_BGR2GRAY)\n",
        "    gray_image = cv2.resize(gray_image, (180,320))\n",
        "    # gray_image=gray_image.flatten()\n",
        "    # print(gray_image.shape)\n",
        "    gray_image = gray_image.astype('float32')\n",
        "    gray_image=gray_image/255\n",
        "    x_test.append(gray_image)\n",
        "print(len(x_test))\n",
        "x_test=np.array(x_test)\n",
        "print(x_test.shape)"
      ],
      "execution_count": null,
      "outputs": [
        {
          "output_type": "stream",
          "text": [
            "/content/drive/My Drive/TOM_FINAL_TEST_DATA/test/ntest/IMG_10000000.jpg\n",
            "552\n",
            "(552, 320, 180)\n"
          ],
          "name": "stdout"
        }
      ]
    },
    {
      "cell_type": "code",
      "metadata": {
        "id": "7u9metE1hNcO"
      },
      "source": [
        "# for i in image_paths:\n",
        "#     img = cv2.imread(i)\n",
        "#     print(img.shape)"
      ],
      "execution_count": null,
      "outputs": []
    },
    {
      "cell_type": "code",
      "metadata": {
        "id": "AjL8mVNcCeHv"
      },
      "source": [
        "\n",
        "# standardized_data1= StandardScaler().fit_transform(x_test)\n",
        "# standardized_data1=scalar.transform(x_test)\n",
        "# x_test=standardized_data1\n",
        "# print(x_test.shape)"
      ],
      "execution_count": null,
      "outputs": []
    },
    {
      "cell_type": "code",
      "metadata": {
        "id": "C4kwxqgJCjEv",
        "colab": {
          "base_uri": "https://localhost:8080/",
          "height": 34
        },
        "outputId": "60e70279-ae0b-4d45-e7cc-9afe1e976ded"
      },
      "source": [
        "x_test=x_test.reshape(len(x_test),180,320,1)\n",
        "print(x_test.shape)"
      ],
      "execution_count": null,
      "outputs": [
        {
          "output_type": "stream",
          "text": [
            "(552, 180, 320, 1)\n"
          ],
          "name": "stdout"
        }
      ]
    },
    {
      "cell_type": "code",
      "metadata": {
        "id": "BMT3YkapCoBy"
      },
      "source": [
        "# y_pred = np.argmax(model.predict(x_test),axis=1)\n",
        "y_pred=model.predict_classes(x_test)"
      ],
      "execution_count": null,
      "outputs": []
    },
    {
      "cell_type": "code",
      "metadata": {
        "id": "YbaQePl6Cse9",
        "colab": {
          "base_uri": "https://localhost:8080/",
          "height": 510
        },
        "outputId": "63c127eb-6dc1-4ac0-bb7f-b40163e209d0"
      },
      "source": [
        "y_true=pd.read_csv(\"/content/sample_data/manik_test.csv\")\n",
        "print(y_true)\n",
        "print(y_pred)"
      ],
      "execution_count": null,
      "outputs": [
        {
          "output_type": "stream",
          "text": [
            "     emotion\n",
            "0          1\n",
            "1          0\n",
            "2          1\n",
            "3          3\n",
            "4          1\n",
            "..       ...\n",
            "547        0\n",
            "548        0\n",
            "549        0\n",
            "550        4\n",
            "551        4\n",
            "\n",
            "[552 rows x 1 columns]\n",
            "[1 0 1 3 1 1 1 1 1 0 1 1 1 1 2 1 2 2 1 1 1 1 1 0 0 0 1 1 1 1 1 1 1 1 1 1 1\n",
            " 1 3 1 1 1 1 1 1 0 3 1 1 0 0 0 1 1 3 3 3 4 1 1 4 1 1 1 3 1 0 1 1 1 1 3 3 3\n",
            " 3 3 3 4 3 1 1 1 2 1 4 1 0 3 3 1 1 1 1 2 2 2 2 0 0 0 2 2 1 4 3 3 3 0 0 0 1\n",
            " 1 1 3 3 3 3 3 3 3 3 3 3 3 1 1 3 3 1 1 1 3 1 1 1 1 1 1 1 1 1 0 0 0 0 0 0 4\n",
            " 4 4 1 1 1 1 3 3 0 1 0 0 0 0 0 0 4 0 1 1 0 0 0 3 3 0 2 0 0 0 0 0 0 0 0 0 0\n",
            " 2 3 0 0 0 3 1 1 1 0 0 0 1 1 1 3 3 3 3 3 3 3 3 3 1 1 3 3 0 3 3 3 3 0 0 4 3\n",
            " 3 1 0 3 1 2 2 0 4 4 3 3 3 3 0 3 0 2 2 2 2 1 3 3 3 4 4 4 1 1 3 3 3 0 2 2 2\n",
            " 3 3 1 3 4 4 1 3 3 3 3 3 1 2 2 1 1 3 3 1 1 3 2 4 4 4 4 4 1 4 0 0 4 3 1 3 4\n",
            " 3 2 3 3 3 4 3 2 3 4 4 1 1 1 1 4 4 4 4 4 4 4 4 4 4 4 4 4 4 4 4 4 4 4 4 2 2\n",
            " 2 2 2 2 4 2 2 0 0 3 3 3 4 4 4 2 2 4 0 4 0 4 0 0 0 0 0 0 4 0 0 4 1 1 4 4 3\n",
            " 3 3 3 3 3 3 3 3 3 3 3 3 3 2 4 4 4 3 3 3 1 1 1 1 4 4 4 4 1 1 1 1 1 4 4 4 4\n",
            " 4 4 2 2 2 2 2 2 2 2 1 1 1 1 1 4 4 4 4 4 4 4 4 4 4 4 4 4 4 0 0 4 4 0 0 0 3\n",
            " 3 0 0 0 0 3 3 0 0 2 2 2 4 4 4 4 2 2 2 3 0 0 4 4 0 4 0 4 4 4 4 1 4 4 4 3 3\n",
            " 4 4 2 4 4 3 3 4 4 4 4 4 4 4 4 4 4 4 4 4 4 4 4 4 4 0 0 4 3 0 4 4 4 4 4 4 4\n",
            " 4 0 1 1 3 0 0 0 0 4 4 3 4 3 3 3 4 4 4 4 4 4 4 2 2 4 4 4 4 0 0 0 4 4]\n"
          ],
          "name": "stdout"
        }
      ]
    },
    {
      "cell_type": "code",
      "metadata": {
        "id": "Q8bp_V6DCyLU",
        "colab": {
          "base_uri": "https://localhost:8080/",
          "height": 34
        },
        "outputId": "ec220e33-5250-484c-fdc9-e1bf32ed5b2e"
      },
      "source": [
        "# y_pred1=model.predict_classes(x_test)\n",
        "from sklearn.metrics import accuracy_score\n",
        "print(\"accuracy :\",accuracy_score(y_true, y_pred))"
      ],
      "execution_count": null,
      "outputs": [
        {
          "output_type": "stream",
          "text": [
            "accuracy : 0.9981884057971014\n"
          ],
          "name": "stdout"
        }
      ]
    },
    {
      "cell_type": "code",
      "metadata": {
        "id": "3uVS2mR1C1sM"
      },
      "source": [
        "submission = pd.DataFrame({'emotion':y_pred})\n",
        "submission.to_csv('final_test_result2.csv',index=False)"
      ],
      "execution_count": null,
      "outputs": []
    },
    {
      "cell_type": "code",
      "metadata": {
        "id": "nijaQfg4C5GQ",
        "colab": {
          "base_uri": "https://localhost:8080/",
          "height": 34
        },
        "outputId": "7de8775c-c8d6-4172-c68c-1e625a4d98ab"
      },
      "source": [
        "print(\"accuracy :\",accuracy_score(y_true, submission))"
      ],
      "execution_count": null,
      "outputs": [
        {
          "output_type": "stream",
          "text": [
            "accuracy : 0.9981884057971014\n"
          ],
          "name": "stdout"
        }
      ]
    },
    {
      "cell_type": "code",
      "metadata": {
        "id": "zW1Go3hX0o_O",
        "colab": {
          "base_uri": "https://localhost:8080/",
          "height": 204
        },
        "outputId": "0d466fc8-635c-4c0a-9c69-4129d6db0874"
      },
      "source": [
        "sample=pd.read_csv(\"/content/drive/My Drive/TOM_FINAL_TEST_DATA/submission.csv\")\n",
        "sample.head()"
      ],
      "execution_count": null,
      "outputs": [
        {
          "output_type": "execute_result",
          "data": {
            "text/html": [
              "<div>\n",
              "<style scoped>\n",
              "    .dataframe tbody tr th:only-of-type {\n",
              "        vertical-align: middle;\n",
              "    }\n",
              "\n",
              "    .dataframe tbody tr th {\n",
              "        vertical-align: top;\n",
              "    }\n",
              "\n",
              "    .dataframe thead th {\n",
              "        text-align: right;\n",
              "    }\n",
              "</style>\n",
              "<table border=\"1\" class=\"dataframe\">\n",
              "  <thead>\n",
              "    <tr style=\"text-align: right;\">\n",
              "      <th></th>\n",
              "      <th>emotion</th>\n",
              "    </tr>\n",
              "  </thead>\n",
              "  <tbody>\n",
              "    <tr>\n",
              "      <th>0</th>\n",
              "      <td>0</td>\n",
              "    </tr>\n",
              "    <tr>\n",
              "      <th>1</th>\n",
              "      <td>0</td>\n",
              "    </tr>\n",
              "    <tr>\n",
              "      <th>2</th>\n",
              "      <td>0</td>\n",
              "    </tr>\n",
              "    <tr>\n",
              "      <th>3</th>\n",
              "      <td>0</td>\n",
              "    </tr>\n",
              "    <tr>\n",
              "      <th>4</th>\n",
              "      <td>0</td>\n",
              "    </tr>\n",
              "  </tbody>\n",
              "</table>\n",
              "</div>"
            ],
            "text/plain": [
              "   emotion\n",
              "0        0\n",
              "1        0\n",
              "2        0\n",
              "3        0\n",
              "4        0"
            ]
          },
          "metadata": {
            "tags": []
          },
          "execution_count": 24
        }
      ]
    },
    {
      "cell_type": "code",
      "metadata": {
        "id": "ErFNOhkPfFRS"
      },
      "source": [
        ""
      ],
      "execution_count": null,
      "outputs": []
    }
  ]
}